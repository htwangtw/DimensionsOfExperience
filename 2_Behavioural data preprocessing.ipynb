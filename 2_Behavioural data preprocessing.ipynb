{
 "cells": [
  {
   "cell_type": "code",
   "execution_count": null,
   "metadata": {
    "collapsed": true
   },
   "outputs": [],
   "source": [
    "import pandas as pd\n",
    "import numpy as np\n",
    "import joblib\n",
    "import os"
   ]
  },
  {
   "cell_type": "code",
   "execution_count": null,
   "metadata": {
    "collapsed": true
   },
   "outputs": [],
   "source": [
    "behavData_xlsx = 'U:\\\\Projects\\\\Project_CCA\\\\Behavioural\\\\mwq.raw_sessionMean.xlsx'\n",
    "\n",
    "# Keywords in the selected variable, they have to match the exact name in the file               \n",
    "# the first key you select must be the id\n",
    "selectvar = False #if you dont need it, change to false\n",
    "selectedKeys = ['SCAN_ID',\n",
    "                'foo'\n",
    "                ]#don't touch if false\n",
    "\n",
    "#optional: name the selected behavioral data; can leave unchanged; this will save data as .npy files\n",
    "keysfn = 'MWQ_keys'\n",
    "datafn = 'data_MWQ_session_preprocessed'\n",
    "imp_s = 'mean' # impute strategy\n",
    "drop_c = 10  #criteria of dropping participants: number of missing variable \n",
    "impute_miss = True #if you are using this output for SCCA, set as True. It will impute missing values with variable mean\n",
    "#Run the script after changing the things above"
   ]
  },
  {
   "cell_type": "code",
   "execution_count": null,
   "metadata": {
    "collapsed": true
   },
   "outputs": [],
   "source": [
    "data_raw = pd.read_excel(behavData_xlsx)\n",
    "\n",
    "#get all the keys of the raw data\n",
    "keys= data_raw.columns\n",
    "if selectvar:\n",
    "    #select keys you are inculding in the analysis \n",
    "    includeKeys = []\n",
    "    for s in selectedKeys:\n",
    "        for k in keys:\n",
    "            if s in k: \n",
    "                includeKeys.append(k)\n",
    "    # clean data\n",
    "    # get the variable we are including\n",
    "    cs_include = data_raw[includeKeys].values\n",
    "    keys = includeKeys\n",
    "else:\n",
    "    cs_include = data_raw.values\n",
    "\n",
    "excludeIdx = []\n",
    "if excludeNaN:\n",
    "    #exclde cases with more than 20 nan\n",
    "    excludeIdx = []\n",
    "    for i in range(cs_include.shape[0]):\n",
    "        n = np.count_nonzero(np.isnan(cs_include)[i])\n",
    "        if n>drop_c:\n",
    "            excludeIdx.append(i)\n",
    "\n",
    "    excludeIdx = np.array(excludeIdx)\n",
    "    #exclude the participants\n",
    "    x = np.delete(cs_include, excludeIdx, 0)\n",
    "    data = x[:,1:]\n",
    "    IDNO = x[:,0]\n",
    "\n",
    "else:\n",
    "    data = cs_include[:,1:]\n",
    "    IDNO = cs_include[:,0]\n"
   ]
  },
  {
   "cell_type": "code",
   "execution_count": null,
   "metadata": {
    "collapsed": true
   },
   "outputs": [],
   "source": [
    "from funlib_scca import *\n",
    "\n",
    "data_imp = imputedata(data, imp_s, missing=impute_miss) #impute outlier\n",
    "\n",
    "#demean\n",
    "S = data_imp.sum(axis=0) / data_imp.shape[0]\n",
    "data_imp -= S[np.newaxis, :]\n",
    "var = (data_imp ** 2).sum(axis=0)\n",
    "var[var == 0] = 1\n",
    "data_imp /= var"
   ]
  },
  {
   "cell_type": "code",
   "execution_count": null,
   "metadata": {
    "collapsed": true
   },
   "outputs": [],
   "source": [
    "#save file\n",
    "output = np.column_stack((IDNO, data_imp))\n",
    "\n",
    "np.save(datafn, output)\n",
    "# np.save(keysfn, keys)"
   ]
  }
 ],
 "metadata": {
  "anaconda-cloud": {},
  "kernelspec": {
   "display_name": "Python 2",
   "language": "python",
   "name": "python2"
  },
  "language_info": {
   "codemirror_mode": {
    "name": "ipython",
    "version": 2
   },
   "file_extension": ".py",
   "mimetype": "text/x-python",
   "name": "python",
   "nbconvert_exporter": "python",
   "pygments_lexer": "ipython2",
   "version": "2.7.13"
  }
 },
 "nbformat": 4,
 "nbformat_minor": 1
}
