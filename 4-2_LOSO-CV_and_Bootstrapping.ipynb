{
 "cells": [
  {
   "cell_type": "code",
   "execution_count": 1,
   "metadata": {
    "collapsed": true
   },
   "outputs": [],
   "source": [
    "behavefn = 'data/data_MWQ_session_preprocessed.npy'\n",
    "rscorrfn = 'data/data_cross_corr_Bzdok_DMN16_preprocessed.npy'\n",
    "\n",
    "from os.path import expanduser\n",
    "import numpy as np\n",
    "%matplotlib inline\n",
    "from funlib_scca import *\n",
    "\n",
    "behavioral_data = np.load(expanduser(behavefn))\n",
    "rest_data = np.load(expanduser(rscorrfn))\n",
    "subject_subset = behavioral_data[:, 0].astype('i4') - 1\n",
    "\n",
    "penFC = 0.3\n",
    "penMW_5 = 0.5\n",
    "\n",
    "n_iter = 1000\n",
    "n_components = 13\n",
    "\n",
    "session_data = behavioral_data[:,1:40]\n",
    "X = rest_data[subject_subset,:]\n",
    "Y = behavioral_data[:,40:]\n",
    "u, v = SCCA_r(X, Y, n_components, penFC, penMW_5)\n",
    "corr = (np.corrcoef(np.dot(X,u).T,np.dot(Y,v).T)[n_components:, 0:n_components]).diagonal()"
   ]
  },
  {
   "cell_type": "markdown",
   "metadata": {},
   "source": [
    "# RTS"
   ]
  },
  {
   "cell_type": "code",
   "execution_count": 2,
   "metadata": {
    "collapsed": true,
    "scrolled": false
   },
   "outputs": [],
   "source": [
    "# Restart the random seed\n",
    "np.random.seed(9999)\n",
    "np.random.set_state(np.random.get_state())\n",
    "\n",
    "session_data = behavioral_data[:,1:40]\n",
    "\n",
    "RTSInd = np.random.randint(1,4, size=(n_iter, session_data.shape[0]))\n",
    "corr_master = np.zeros((n_components, n_iter))\n",
    "\n",
    "for n, k in enumerate(RTSInd):\n",
    "    resample = np.zeros((session_data.shape[0], n_components))\n",
    "    for i, drop in enumerate(k):\n",
    "        cur_subj = session_data[i,:].reshape((3, n_components))\n",
    "        # drop session\n",
    "        cur_data = np.delete(cur_subj, drop - 1, 0)\n",
    "        cur_data = np.mean(cur_data, axis=0)\n",
    "        resample[i,:] = cur_data\n",
    "        \n",
    "    data_imp = imputedata(resample, 'mean', missing=True) #impute outlier\n",
    "\n",
    "    S = data_imp.sum(axis=0) / data_imp.shape[0]\n",
    "    data_imp -= S[np.newaxis, :]\n",
    "    var = (data_imp ** 2).sum(axis=0)\n",
    "    var[var == 0] = 1\n",
    "    data_imp /= var\n",
    "    \n",
    "    cur_Y = data_imp\n",
    "    u, v = SCCA_r(X, cur_Y, n_components, penFC, penMW_5)\n",
    "    cur_cors = (np.corrcoef(np.dot(X,u).T,np.dot(cur_Y,v).T)[n_components:, 0:n_components]).diagonal()\n",
    "    corr_master[:,n] = cur_cors "
   ]
  },
  {
   "cell_type": "code",
   "execution_count": 3,
   "metadata": {},
   "outputs": [
    {
     "name": "stdout",
     "output_type": "stream",
     "text": [
      "Sum of Cannonical Correlation Coefficent: 4.23756694571\n",
      "Confident interval: 95%\n",
      "Low: 2.98792469083\n",
      "High: 5.24865835135\n"
     ]
    }
   ],
   "source": [
    "# confidnece interval\n",
    "alpha = 0.05\n",
    "ind_low = int(n_iter * alpha / 2)\n",
    "ind_high = int(n_iter - n_iter * alpha / 2)\n",
    "\n",
    "# sort the canonical correlation score\n",
    "corr_master.sort(axis=1) \n",
    "\n",
    "ci_corr =  (corr_master[:,ind_low], corr_master[:,ind_high])\n",
    "np.set_printoptions(precision=3)\n",
    "print('Sum of Cannonical Correlation Coefficent: %s' %str(corr.sum()))\n",
    "print('Confident interval: 95%')\n",
    "print('Low: %s'%str(ci_corr[0].sum()))\n",
    "print('High: %s'%str(ci_corr[1].sum()))"
   ]
  },
  {
   "cell_type": "code",
   "execution_count": 4,
   "metadata": {
    "collapsed": true
   },
   "outputs": [],
   "source": [
    "theta_cv = np.sum(corr_master, axis=0) #this is the stats of interest\n",
    "var_cv = ((theta_cv - (theta_cv.sum() / n_iter)) ** 2).sum()\n",
    "sem_cv = np.sqrt( var_cv/ (n_iter - 1) )"
   ]
  },
  {
   "cell_type": "markdown",
   "metadata": {},
   "source": [
    "# Bootstrapping"
   ]
  },
  {
   "cell_type": "code",
   "execution_count": 5,
   "metadata": {
    "collapsed": true
   },
   "outputs": [],
   "source": [
    "# Restart the random seed\n",
    "np.random.seed(9999)\n",
    "np.random.set_state(np.random.get_state())\n",
    "\n",
    "from numpy.random import randint\n",
    "# select a random index\n",
    "bootsInd = randint(X.shape[0], size=(n_iter, X.shape[0]))\n",
    "corr_master = np.zeros((n_components, n_iter))\n",
    "for i, I in enumerate(bootsInd):\n",
    "    cur_X = X[I,:]\n",
    "    cur_Y = Y[I,:]\n",
    "    u, v= SCCA_r(cur_X,cur_Y, n_components, penFC, penMW_5) # run SCCA\n",
    "    cur_cors = (np.corrcoef(np.dot(cur_X ,u).T,np.dot(cur_Y ,v).T)[n_components:, 0:n_components]).diagonal()\n",
    "    corr_master[:,i] = cur_cors "
   ]
  },
  {
   "cell_type": "code",
   "execution_count": 6,
   "metadata": {},
   "outputs": [
    {
     "name": "stdout",
     "output_type": "stream",
     "text": [
      "Sum of Cannonical Correlation Coefficent: 4.23756694571\n",
      "Confident interval: 95%\n",
      "Low: -0.187081919459\n",
      "High: 6.81397853621\n"
     ]
    }
   ],
   "source": [
    "#sort the canonical correlation score\n",
    "corr_master.sort(axis=1)\n",
    "\n",
    "# confidnece interval\n",
    "alpha = 0.05\n",
    "ind_low = int(n_iter*alpha/2)\n",
    "ind_high = int(n_iter - n_iter*alpha/2)\n",
    "ci_corr =  (corr_master[:,ind_low], corr_master[:,ind_high])\n",
    "np.set_printoptions(precision=3)\n",
    "print('Sum of Cannonical Correlation Coefficent: %s' %str(corr.sum()))\n",
    "print('Confident interval: 95%')\n",
    "print('Low: %s'%str(ci_corr[0].sum()))\n",
    "print('High: %s'%str(ci_corr[1].sum()))"
   ]
  },
  {
   "cell_type": "code",
   "execution_count": 7,
   "metadata": {
    "collapsed": true
   },
   "outputs": [],
   "source": [
    "theta_boots = np.sum(corr_master, axis=0) #this is the stats of interest\n",
    "var_boots = ((theta_boots - (theta_boots.sum() / n_iter)) ** 2).sum()\n",
    "sem_boots = np.sqrt( var_boots/ (n_iter - 1) )"
   ]
  },
  {
   "cell_type": "markdown",
   "metadata": {},
   "source": [
    "# Plot"
   ]
  },
  {
   "cell_type": "code",
   "execution_count": 9,
   "metadata": {},
   "outputs": [
    {
     "data": {
      "image/png": "[encoded data removed]",
      "text/plain": [
       "<matplotlib.figure.Figure at 0xed7dac8>"
      ]
     },
     "metadata": {},
     "output_type": "display_data"
    }
   ],
   "source": [
    "import matplotlib.patches as mpatches\n",
    "\n",
    "fig = plt.figure()\n",
    "ax = fig.add_subplot(111)\n",
    "plt.hist(theta_cv, bins=50, normed=1, facecolor='green', alpha=0.75, label='RTS') \n",
    "plt.hist(theta_boots, bins=50, normed=1, facecolor='blue', alpha=0.75, label='Bootstrap samples')  \n",
    "org = corr.sum()\n",
    "plt.plot([org, org], [0, 1], 'k-', lw=1)\n",
    "\n",
    "ax.set_ylabel('Probability Density')\n",
    "ax.set_xlabel('Sum of Cannonical Correlation Coefficent')\n",
    "\n",
    "# plt.legend(handles=[green_patch, blue_patch])\n",
    "plt.legend(bbox_to_anchor=(1.05, 1), loc=2, borderaxespad=0.)\n",
    "\n",
    "ax.text(-3, .4, 'RTS Standard Error\\n %1.3f' %sem_cv)\n",
    "ax.text(-3, .2, 'Bootstrapping Standard Error\\n %1.3f' %sem_boots)\n",
    "\n",
    "plt.title('Bootstrapping and RTS Distributions \\nfor the Sum of Cannonical Correlation Coefficent\\n n=1000')\n",
    "\n",
    "plt.tight_layout()\n",
    "plt.savefig('Results/RTS_Boots_hist_n1000.png', dpi=300, transparent=True, bbox_inches='tight')\n",
    "plt.show()"
   ]
  }
 ],
 "metadata": {
  "anaconda-cloud": {},
  "kernelspec": {
   "display_name": "Python 2",
   "language": "python",
   "name": "python2"
  },
  "language_info": {
   "codemirror_mode": {
    "name": "ipython",
    "version": 2
   },
   "file_extension": ".py",
   "mimetype": "text/x-python",
   "name": "python",
   "nbconvert_exporter": "python",
   "pygments_lexer": "ipython2",
   "version": "2.7.13"
  }
 },
 "nbformat": 4,
 "nbformat_minor": 2
}
