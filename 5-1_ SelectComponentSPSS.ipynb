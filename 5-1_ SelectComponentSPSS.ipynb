{
 "cells": [
  {
   "cell_type": "code",
   "execution_count": 1,
   "metadata": {
    "collapsed": true
   },
   "outputs": [],
   "source": [
    "import pandas as pd \n",
    "import glob"
   ]
  },
  {
   "cell_type": "code",
   "execution_count": 22,
   "metadata": {
    "collapsed": false
   },
   "outputs": [
    {
     "name": "stdout",
     "output_type": "stream",
     "text": [
      "['./Results/RemoveHighFD\\\\allInstances_penBrain0.3penMW0.5.csv', './Results/RemoveHighFD\\\\BOOTS_penBrain0.3penMW0.5.csv', './Results/RemoveHighFD\\\\LOSO_penBrain0.3penMW0.5_new.csv']\n"
     ]
    }
   ],
   "source": [
    "CC_PATH = glob.glob('./Results/RemoveHighFD/*penBrain0.3penMW0.5*.csv')\n",
    "# seed_path = pd.read_csv('./data/CS_MeanFD_imp.csv', header=0, index_col=None)\n",
    "print CC_PATH"
   ]
  },
  {
   "cell_type": "code",
   "execution_count": 23,
   "metadata": {
    "collapsed": false
   },
   "outputs": [],
   "source": [
    "df_ALL = pd.read_csv(CC_PATH[0], header=0, index_col=0) \n",
    "df_BOOTS = pd.read_csv(CC_PATH[1], header=0, index_col=0) \n",
    "# df_BOOTSFD = pd.read_csv(CC_PATH[2], header=0, index_col=0) \n",
    "# df_LOSO = pd.read_csv(CC_PATH[2], header=0, index_col=0) "
   ]
  },
  {
   "cell_type": "code",
   "execution_count": 24,
   "metadata": {
    "collapsed": false
   },
   "outputs": [],
   "source": [
    "df_ALL = pd.concat([df_ALL.iloc[:, 4], df_ALL.iloc[:, 1], df_ALL.iloc[:, 4+13], df_ALL.iloc[:, 1+13]], axis=1)\n",
    "df_BOOTS = pd.concat([df_BOOTS.iloc[:, 7], df_BOOTS.iloc[:, 8], df_BOOTS.iloc[:, 7+13], df_BOOTS.iloc[:, 8+13]], axis=1)\n",
    "# df_BOOTSFD = pd.concat([df_BOOTSFD.iloc[:, 0], df_BOOTSFD.iloc[:, 2], df_BOOTSFD.iloc[:, 0+13], df_BOOTSFD.iloc[:, 2+13]], axis=1)\n",
    "# df_LOSO = pd.concat([df_LOSO.iloc[:, 5], df_LOSO.iloc[:, 1], df_LOSO.iloc[:, 5+13], df_LOSO.iloc[:, 1+13]], axis=1)"
   ]
  },
  {
   "cell_type": "code",
   "execution_count": 6,
   "metadata": {
    "collapsed": true
   },
   "outputs": [],
   "source": [
    "import numpy as np"
   ]
  },
  {
   "cell_type": "code",
   "execution_count": 7,
   "metadata": {
    "collapsed": true
   },
   "outputs": [],
   "source": [
    "def z_score(Y):\n",
    "    '''\n",
    "    zscore a 2-D data matrix.\n",
    "    '''\n",
    "    S = Y.sum(axis=0) / Y.shape[0]\n",
    "    Y -= S[np.newaxis, :]\n",
    "    var = (Y ** 2).sum(axis=0) / Y.shape[0]\n",
    "    var[var == 0] = 1\n",
    "    Y /= np.sqrt(var)\n",
    "    return Y"
   ]
  },
  {
   "cell_type": "code",
   "execution_count": 25,
   "metadata": {
    "collapsed": true
   },
   "outputs": [],
   "source": [
    "z_BOOTS = z_score(df_BOOTS.values)\n",
    "comp1_BOOTS = (z_BOOTS[:,0] + z_BOOTS[:,2])/2\n",
    "comp2_BOOTS = (z_BOOTS[:,1] + z_BOOTS[:,3])/2\n",
    "\n",
    "z_ALL = z_score(df_ALL.values)\n",
    "comp1_ALL = (z_ALL[:,0] + z_ALL[:,2])/2\n",
    "comp2_ALL = -(z_ALL[:,1] + z_ALL[:,3])/2\n",
    "\n",
    "# z_BOOTSFD = z_score(df_BOOTSFD.values)\n",
    "# comp1_BOOTSFD = (z_BOOTSFD[:,0] + z_BOOTSFD[:,2])/2\n",
    "# comp2_BOOTSFD = (z_BOOTSFD[:,1] + z_BOOTSFD[:,3])/2\n",
    "\n",
    "# z_LOSO = z_score(df_LOSO.values)\n",
    "# comp1_LOSO = (z_LOSO[:,0] + z_LOSO[:,2])/2\n",
    "# comp2_LOSO = (z_LOSO[:,1] + z_LOSO[:,3])/2"
   ]
  },
  {
   "cell_type": "code",
   "execution_count": 9,
   "metadata": {
    "collapsed": false
   },
   "outputs": [],
   "source": [
    "# FSL EVs\n",
    "subj_subset = df_BOOTS.index - 1\n",
    "\n",
    "df_SCA = seed_path.loc[subj_subset]\n",
    "Y = np.array(df_SCA.values[:,1:])\n",
    "S = Y.sum(axis=0) / Y.shape[0]\n",
    "Y -= S[np.newaxis, :]\n",
    "var = (Y ** 2).sum(axis=0) / Y.shape[0]\n",
    "Y /= np.sqrt(np.float64(var))\n",
    "df_SCA['MeanFD_Power'] = Y[:,0]\n",
    "df_SCA['MeanFD_Jenkinson'] = Y[:,1]\n",
    "\n",
    "# df_EVs = pd.DataFrame({\n",
    "#                        'SCCA_BOOTS_1_THOUGHTS': z_BOOTS[:,2],\n",
    "#                        'SCCA_BOOTS_2_THOUGHTS': -z_BOOTS[:,3],\n",
    "#                       }, index=subj_subset)\n",
    "# pd.concat([df_SCA, df_EVs], axis=1).to_csv('Results\\DMN_16_REVISION\\DMN16_FSL_EV_correct.csv')"
   ]
  },
  {
   "cell_type": "code",
   "execution_count": 26,
   "metadata": {
    "collapsed": false
   },
   "outputs": [],
   "source": [
    "# save for spss\n",
    "idx = df_ALL.index\n",
    "# idx_FD = df_BOOTSFD.index\n",
    "\n",
    "# FD_out = []\n",
    "# for i in idx:\n",
    "#     if i not in idx_FD:\n",
    "#         FD_out.append(i)\n",
    "# print FD_out\n",
    "\n",
    "df_all = pd.DataFrame({'SCCA_BOOTS_1_REVISION': comp1_BOOTS,\n",
    "             'SCCA_BOOTS_2_REVISION': comp2_BOOTS,\n",
    "             'SCCA_ALL_1_REVISION': comp1_ALL,\n",
    "             'SCCA_ALL_2_REVISION': comp2_ALL}, index=idx)\n",
    "# df_FDO = pd.DataFrame({'SCCA_BOOTSFD_1_REVISION': comp1_BOOTSFD,\n",
    "#              'SCCA_BOOTSFD_2_REVISION': comp2_BOOTSFD}, index=idx_FD)\n",
    "\n",
    "pd.concat([df_all, df_SCA], axis=1).to_csv('Results/RemoveHighFD/DMN16.csv')"
   ]
  },
  {
   "cell_type": "code",
   "execution_count": 9,
   "metadata": {
    "collapsed": false
   },
   "outputs": [],
   "source": [
    "coeff_TBL = np.corrcoef((comp1_BOOTS, comp2_BOOTS, comp1_LOSO, -comp2_LOSO))"
   ]
  },
  {
   "cell_type": "code",
   "execution_count": 10,
   "metadata": {
    "collapsed": false
   },
   "outputs": [
    {
     "name": "stdout",
     "output_type": "stream",
     "text": [
      "[[ 1.          0.44475178  0.90626171  0.2815235 ]\n",
      " [ 0.44475178  1.          0.56739911  0.73184253]\n",
      " [ 0.90626171  0.56739911  1.          0.27336838]\n",
      " [ 0.2815235   0.73184253  0.27336838  1.        ]]\n"
     ]
    }
   ],
   "source": [
    "print coeff_TBL"
   ]
  },
  {
   "cell_type": "code",
   "execution_count": 26,
   "metadata": {
    "collapsed": false
   },
   "outputs": [
    {
     "data": {
      "image/png": "[encoded data removed]",
      "text/plain": [
       "<matplotlib.figure.Figure at 0xc93c518>"
      ]
     },
     "metadata": {},
     "output_type": "display_data"
    }
   ],
   "source": [
    "from hierHeatmap import *\n",
    "df = pd.DataFrame(coeff_TBL[2:,:2], \n",
    "                  columns=['1', '2'], \n",
    "                  index=['1', '2'])\n",
    "import matplotlib.pyplot as plt\n",
    "from mpl_toolkits.axes_grid1 import make_axes_locatable\n",
    "import matplotlib\n",
    "matplotlib.rcParams.update({'font.size': 20})\n",
    "fig = plt.figure()\n",
    "ax = fig.add_subplot(111)\n",
    "im = ax.matshow(df, vmin=0, vmax=1, interpolation='nearest', cmap=plt.cm.Greens, aspect='equal')\n",
    "divider = make_axes_locatable(plt.gca())\n",
    "cax = divider.append_axes(\"right\", \"10%\", pad=\"10%\")\n",
    "cb = plt.colorbar(im, cax=cax, ticks=[0, 1])\n",
    "\n",
    "# cb.set_ticklabels(fontsize='small') \n",
    "cb.set_label('r')\n",
    "\n",
    "ax.set_yticks(range(df.shape[0]))\n",
    "ax.set_xticks(range(df.shape[1]))\n",
    "ax.xaxis.set_ticks_position('top')\n",
    "ax.set_xticklabels(list(df.columns))\n",
    "ax.set_yticklabels(list(df.index))\n",
    "ax.set_xlabel('BOOTS', size='large')\n",
    "ax.set_ylabel('LODO', size='large')\n",
    "plt.savefig('Results/CC_Consistency.png', dpi=300, transparent=True, bbox_inches='tight')\n",
    "\n",
    "plt.show()"
   ]
  },
  {
   "cell_type": "code",
   "execution_count": null,
   "metadata": {
    "collapsed": true
   },
   "outputs": [],
   "source": []
  }
 ],
 "metadata": {
  "anaconda-cloud": {},
  "kernelspec": {
   "display_name": "Python 2",
   "language": "python",
   "name": "python2"
  },
  "language_info": {
   "codemirror_mode": {
    "name": "ipython",
    "version": 2
   },
   "file_extension": ".py",
   "mimetype": "text/x-python",
   "name": "python",
   "nbconvert_exporter": "python",
   "pygments_lexer": "ipython2",
   "version": "2.7.13"
  }
 },
 "nbformat": 4,
 "nbformat_minor": 2
}
