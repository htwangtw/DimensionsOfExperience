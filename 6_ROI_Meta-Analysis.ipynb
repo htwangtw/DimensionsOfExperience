{
 "cells": [
  {
   "cell_type": "code",
   "execution_count": 1,
   "metadata": {
    "collapsed": true
   },
   "outputs": [],
   "source": [
    "import neurosynth as ns\n",
    "import glob, os"
   ]
  },
  {
   "cell_type": "code",
   "execution_count": 2,
   "metadata": {
    "collapsed": false
   },
   "outputs": [],
   "source": [
    "# load ROIsBzdok_DMN\n",
    "atlas_nii = sorted(glob.glob('Bzdok_DMN/*.nii.gz'))\n",
    "atlas_names = [roi.split(os.sep)[-1].split('.nii.gz')[0]  for roi in atlas_nii]"
   ]
  },
  {
   "cell_type": "code",
   "execution_count": 3,
   "metadata": {
    "collapsed": true
   },
   "outputs": [],
   "source": [
    "# load neurosynth dataset\n",
    "dataset = ns.Dataset.load('data/dataset.pkl') "
   ]
  },
  {
   "cell_type": "code",
   "execution_count": 4,
   "metadata": {
    "collapsed": false
   },
   "outputs": [
    {
     "name": "stderr",
     "output_type": "stream",
     "text": [
      "C:\\Users\\hw1012\\AppData\\Local\\Continuum\\Anaconda3\\envs\\analysis\\lib\\site-packages\\neurosynth\\analysis\\meta.py:135: RuntimeWarning: invalid value encountered in divide\n",
      "  pFgA = pAgF * pF / pA\n",
      "C:\\Users\\hw1012\\AppData\\Local\\Continuum\\Anaconda3\\envs\\analysis\\lib\\site-packages\\neurosynth\\analysis\\meta.py:140: RuntimeWarning: invalid value encountered in divide\n",
      "  pFgA_prior = pAgF * prior / pA_prior\n"
     ]
    }
   ],
   "source": [
    "ids = dataset.get_studies(mask='./Bzdok_DMN/%s.nii.gz'%atlas_names[0], activation_threshold=0.1)\n",
    "ma = ns.meta.MetaAnalysis(dataset, ids,  q=0.01, prior=0.5)"
   ]
  },
  {
   "cell_type": "code",
   "execution_count": 7,
   "metadata": {
    "collapsed": false
   },
   "outputs": [
    {
     "data": {
      "text/plain": [
       "['pA_pF_emp_prior',\n",
       " 'pFgA_pF=0.50',\n",
       " 'consistency_z_FDR_0.01',\n",
       " 'pFgA_pF=0.50_FDR_0.01',\n",
       " 'specificity_z',\n",
       " 'pFgA_emp_prior_FDR_0.01',\n",
       " 'pA_pF=0.50',\n",
       " 'consistency_z',\n",
       " 'specificity_z_FDR_0.01',\n",
       " 'pFgA_emp_prior',\n",
       " 'pAgF']"
      ]
     },
     "execution_count": 7,
     "metadata": {},
     "output_type": "execute_result"
    }
   ],
   "source": [
    "ma.images.keys()"
   ]
  },
  {
   "cell_type": "code",
   "execution_count": 12,
   "metadata": {
    "collapsed": false
   },
   "outputs": [],
   "source": [
    "# Seed-based coactivation meta-analysis\n",
    "for a in atlas_names:\n",
    "    ids = dataset.get_studies(mask='./Bzdok_DMN/%s.nii.gz'%a, activation_threshold=0.1)\n",
    "    ma = ns.meta.MetaAnalysis(dataset, ids,  q=0.01, prior=0.5)\n",
    "    ma.save_results(image_list=['specificity_z'], output_dir='./Neurosynth_meta/', prefix=a)"
   ]
  }
 ],
 "metadata": {
  "anaconda-cloud": {},
  "kernelspec": {
   "display_name": "Python [conda env:analysis]",
   "language": "python",
   "name": "conda-env-analysis-py"
  },
  "language_info": {
   "codemirror_mode": {
    "name": "ipython",
    "version": 2
   },
   "file_extension": ".py",
   "mimetype": "text/x-python",
   "name": "python",
   "nbconvert_exporter": "python",
   "pygments_lexer": "ipython2",
   "version": "2.7.13"
  }
 },
 "nbformat": 4,
 "nbformat_minor": 2
}
